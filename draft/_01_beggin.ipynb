{
 "cells": [
  {
   "cell_type": "code",
   "execution_count": 51,
   "metadata": {},
   "outputs": [],
   "source": [
    "import numpy as np"
   ]
  },
  {
   "cell_type": "code",
   "execution_count": 52,
   "metadata": {},
   "outputs": [],
   "source": [
    "input_1 = np.array([2, 6, 4, 8])\n",
    "input_2 = np.array([1, 2, 3, 4, 5, 6, 7, 8, 9, 10])\n",
    "input_3 = np.array([10, 9 ,8, 7, 6, 5, 4, 3, 2, 1])\n",
    "input_4 = np.array([10, 9, 8, 7, 6, 5, 6, 7, 8, 9, 10])\n",
    "input_5 = np.array([10, 3, 7, 9, 5, 6, 1, 8, 2, 4])\n",
    "input_6 = np.array([12, 10, 8, 6])\n",
    "input_7 = np.array([12, 10, 8, 6, 4, 2, 4, 6, 8, 6, 4, 2, 1, 2, 4, 6, 8, 6, 8, 10, 8, 6, 2, 4, 6, 8, 10, 10, 12, 10, 8, 4])\n",
    "input_8 = np.array([12, 10])\n",
    "input_9 = np.array([12, 10, 8, ])"
   ]
  },
  {
   "cell_type": "code",
   "execution_count": 53,
   "metadata": {},
   "outputs": [
    {
     "name": "stdout",
     "output_type": "stream",
     "text": [
      "[12 10  8  6  4  2  4  6  8  6  4  2  1  2  4  6  8  6  8 10  8  6  2  4\n",
      "  6  8 10 10 12 10  8  4]\n",
      "6.40625\n",
      "32\n"
     ]
    }
   ],
   "source": [
    "input = input_7\n",
    "mean = input.mean()\n",
    "size = len(input)\n",
    "print(input)\n",
    "print(mean)\n",
    "print(size)"
   ]
  },
  {
   "cell_type": "code",
   "execution_count": 54,
   "metadata": {},
   "outputs": [
    {
     "name": "stdout",
     "output_type": "stream",
     "text": [
      "[1.         1.22474487 1.78885438 2.12132034 2.6349302  3.08697453\n",
      " 3.36269123 3.80131556 3.87940089 3.88922234 4.07619732 4.33019692\n",
      " 4.62087529 4.87186816 5.19223902 5.81677923 6.09271796 6.64618531\n",
      " 7.26867742 7.74290884 7.93346659 7.13447758 6.94411792 7.13177272\n",
      " 7.52933122 7.96994182 8.46181437 8.92292849 9.38307621 9.83351801\n",
      " 9.43168978]\n",
      "[ 2.  3.  4.  5.  6.  7.  8.  9. 10. 11. 12. 13. 14. 15. 16. 17. 18. 19.\n",
      " 20. 21. 22. 23. 24. 25. 26. 27. 28. 29. 30. 31. 32.]\n"
     ]
    }
   ],
   "source": [
    "def calculate_range_per_stddev(curr_data_array):\n",
    "\tmean = np.mean(curr_data_array)\n",
    "\tsize = len(curr_data_array)\n",
    "\tdiff_accum_mean_array = np.array([])\n",
    "\tdiff_accum_mean_curr = 0\n",
    "\ti = 0\n",
    "\twhile i < size:\n",
    "\t\tdiff_accum_mean_curr = diff_accum_mean_curr + (curr_data_array[i] - mean)\n",
    "\t\tdiff_accum_mean_array = np.append(diff_accum_mean_array, diff_accum_mean_curr)\n",
    "\t\ti = i + 1\n",
    "\tstddev = np.std(curr_data_array)\n",
    "\trange = diff_accum_mean_array.max() - diff_accum_mean_array.min()\n",
    "\trange_per_stddev = range / stddev\n",
    "\treturn range_per_stddev\n",
    "\n",
    "range_per_stddev_array = np.array([])\n",
    "nbr_of_data_array = np.array([])\n",
    "i = 2\n",
    "while i <= size:\n",
    "\tcutted_data_array = input[0:i]\n",
    "\trange_per_stddev = calculate_range_per_stddev(cutted_data_array)\n",
    "\trange_per_stddev_array = np.append(range_per_stddev_array, range_per_stddev)\n",
    "\tnbr_of_data_array = np.append(nbr_of_data_array, i)\n",
    "\ti = i + 1\n",
    "\n",
    "print(range_per_stddev_array)\n",
    "print(nbr_of_data_array)"
   ]
  },
  {
   "cell_type": "code",
   "execution_count": 55,
   "metadata": {},
   "outputs": [
    {
     "name": "stdout",
     "output_type": "stream",
     "text": [
      "[0.         0.29248125 0.83903595 1.0849625  1.39776474 1.62619358\n",
      " 1.74961631 1.92649879 1.95583387 1.95948171 2.02722389 2.11443263\n",
      " 2.20816615 2.28447509 2.3763568  2.54022055 2.60708596 2.73252652\n",
      " 2.86169288 2.95287566 2.9879514  2.83480779 2.79579145 2.83426073\n",
      " 2.91252173 2.99456919 3.08096704 3.15751728 3.23006098 3.29770764\n",
      " 3.23751627]\n",
      "[1.         1.5849625  2.         2.32192809 2.5849625  2.80735492\n",
      " 3.         3.169925   3.32192809 3.45943162 3.5849625  3.70043972\n",
      " 3.80735492 3.9068906  4.         4.08746284 4.169925   4.24792751\n",
      " 4.32192809 4.39231742 4.45943162 4.52356196 4.5849625  4.64385619\n",
      " 4.70043972 4.7548875  4.80735492 4.857981   4.9068906  4.95419631\n",
      " 5.        ]\n"
     ]
    }
   ],
   "source": [
    "# Use log2 in the new arrays to build the entropic line\n",
    "range_per_stddev_log_array = np.log2(range_per_stddev_array)\n",
    "nbr_of_data_log_array = np.log2(nbr_of_data_array)\n",
    "\n",
    "print(range_per_stddev_log_array)\n",
    "print(nbr_of_data_log_array)"
   ]
  },
  {
   "cell_type": "code",
   "execution_count": 56,
   "metadata": {},
   "outputs": [
    {
     "name": "stdout",
     "output_type": "stream",
     "text": [
      "0.8128894875875081 -0.7982785083783764\n"
     ]
    }
   ],
   "source": [
    "coefficients = np.polyfit(nbr_of_data_log_array, range_per_stddev_log_array, 1)\n",
    "\n",
    "m = coefficients[0]\n",
    "b = coefficients[1]\n",
    "\n",
    "H = m\n",
    "print(H, b)"
   ]
  },
  {
   "cell_type": "code",
   "execution_count": 57,
   "metadata": {},
   "outputs": [
    {
     "name": "stdout",
     "output_type": "stream",
     "text": [
      "0.8128894875875085 -0.7982785083783787\n"
     ]
    }
   ],
   "source": [
    "x = nbr_of_data_log_array\n",
    "y = range_per_stddev_log_array\n",
    "\n",
    "A = np.vstack([x, np.ones(len(x))]).T\n",
    "\n",
    "m, c = np.linalg.lstsq(A, y, rcond=None)[0]\n",
    "\n",
    "print(m, c)"
   ]
  }
 ],
 "metadata": {
  "kernelspec": {
   "display_name": "Python 3",
   "language": "python",
   "name": "python3"
  },
  "language_info": {
   "codemirror_mode": {
    "name": "ipython",
    "version": 3
   },
   "file_extension": ".py",
   "mimetype": "text/x-python",
   "name": "python",
   "nbconvert_exporter": "python",
   "pygments_lexer": "ipython3",
   "version": "3.8.10"
  }
 },
 "nbformat": 4,
 "nbformat_minor": 2
}
