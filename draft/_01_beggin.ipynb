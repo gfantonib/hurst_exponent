{
 "cells": [
  {
   "cell_type": "code",
   "execution_count": 199,
   "metadata": {},
   "outputs": [],
   "source": [
    "import numpy as np"
   ]
  },
  {
   "cell_type": "code",
   "execution_count": 200,
   "metadata": {},
   "outputs": [],
   "source": [
    "input_1 = np.array([2, 6, 4, 8])\n",
    "input_2 = np.array([1, 2, 3, 4, 5, 6, 7, 8, 9, 10])\n",
    "input_3 = np.array([10, 9 ,8, 7, 6, 5, 4, 3, 2, 1])\n",
    "input_4 = np.array([10, 9, 8, 7, 6, 5, 6, 7, 8, 9, 10])\n",
    "input_5 = np.array([10, 3, 7, 9, 5, 6, 1, 8, 2, 4])\n",
    "input_6 = np.array([12, 10, 8, 6])\n",
    "input_7 = np.array([12, 10, 8, 6, 4, 2, 4, 6, 8, 6, 4, 2, 1, 2, 4, 6, 8, 6, 8, 10])\n",
    "input_8 = np.array([12, 10])"
   ]
  },
  {
   "cell_type": "code",
   "execution_count": 201,
   "metadata": {},
   "outputs": [
    {
     "name": "stdout",
     "output_type": "stream",
     "text": [
      "[12 10]\n",
      "11.0\n",
      "2\n"
     ]
    }
   ],
   "source": [
    "input = input_8\n",
    "# mean = input.mean()\n",
    "size = len(input)\n",
    "print(input)\n",
    "# print(mean)\n",
    "print(size)"
   ]
  },
  {
   "cell_type": "code",
   "execution_count": 202,
   "metadata": {},
   "outputs": [
    {
     "name": "stdout",
     "output_type": "stream",
     "text": [
      "[1. 0.]\n"
     ]
    }
   ],
   "source": [
    "diff_accum_mean_all = np.array([])\n",
    "diff_accum_mean_curr = 0\n",
    "i = 0\n",
    "while i < size:\n",
    "\tmean = input[0:i+1]# IS THE MEAN RELATIVE?\n",
    "\tdiff_accum_mean_curr = diff_accum_mean_curr + (input[i] - mean)\n",
    "\tdiff_accum_mean_all = np.append(diff_accum_mean_all, diff_accum_mean_curr)\n",
    "\ti = i + 1\n",
    "\t\n",
    "print(diff_accum_mean_all)\n",
    "# This sequence idicates that if the first number is bigger than 0,\n",
    "# then the firt data number is bigger then the mean. If the first \n",
    "# number is smaller than 0, then the firt data number is smaller then \n",
    "# the mean. After the first number, the rule is: if the next number \n",
    "# moves up or down, it means that the next data number is bigger or \n",
    "# smaller then the mean, respectively."
   ]
  },
  {
   "cell_type": "code",
   "execution_count": 203,
   "metadata": {},
   "outputs": [
    {
     "name": "stdout",
     "output_type": "stream",
     "text": [
      "[1.]\n"
     ]
    }
   ],
   "source": [
    "range_trusted = np.array([])\n",
    "j = 2\n",
    "while j <= size:\n",
    "\tcurr = diff_accum_mean_all[0:j]\n",
    "\trange_trusted = np.append(range_trusted, curr.max() - curr.min())\n",
    "\tj = j + 1\n",
    "\n",
    "print(range_trusted)\n",
    "# This can only grow."
   ]
  },
  {
   "cell_type": "code",
   "execution_count": 204,
   "metadata": {},
   "outputs": [
    {
     "name": "stdout",
     "output_type": "stream",
     "text": [
      "[1.]\n"
     ]
    }
   ],
   "source": [
    "std_dev = np.array([])\n",
    "j = 2\n",
    "while j <= size:\n",
    "\tcurr = input[0:j]\n",
    "\tstd_dev = np.append(std_dev, np.std(curr))\n",
    "\tj = j + 1\n",
    "\n",
    "print(std_dev)"
   ]
  },
  {
   "cell_type": "code",
   "execution_count": 205,
   "metadata": {},
   "outputs": [
    {
     "name": "stdout",
     "output_type": "stream",
     "text": [
      "[1.]\n"
     ]
    }
   ],
   "source": [
    "range_per_std = range_trusted / std_dev\n",
    "print(range_per_std)"
   ]
  },
  {
   "cell_type": "code",
   "execution_count": 206,
   "metadata": {},
   "outputs": [
    {
     "name": "stdout",
     "output_type": "stream",
     "text": [
      "[0.]\n"
     ]
    }
   ],
   "source": [
    "range_per_std_log = np.array([])\n",
    "nbr_of_data_log = np.array([])\n",
    "\n",
    "nbr_of_data = 2\n",
    "for i in range_per_std:\n",
    "\trange_curr = np.log2(i)\n",
    "\trange_per_std_log = np.append(range_per_std_log, range_curr)\n",
    "\t# nbr_curr = np.log2(nbr_of_data)\n",
    "\t# nbr_of_data_log = np.append(nbr_of_data_log, curr)\n",
    "\t# nbr_of_data = nbr_of_data + 1\n",
    "\n",
    "print(range_per_std_log)\n",
    "# print(nbr_of_data_log)"
   ]
  }
 ],
 "metadata": {
  "kernelspec": {
   "display_name": "Python 3",
   "language": "python",
   "name": "python3"
  },
  "language_info": {
   "codemirror_mode": {
    "name": "ipython",
    "version": 3
   },
   "file_extension": ".py",
   "mimetype": "text/x-python",
   "name": "python",
   "nbconvert_exporter": "python",
   "pygments_lexer": "ipython3",
   "version": "3.8.10"
  }
 },
 "nbformat": 4,
 "nbformat_minor": 2
}
