{
 "cells": [
  {
   "cell_type": "code",
   "execution_count": 105,
   "metadata": {},
   "outputs": [],
   "source": [
    "import numpy as np"
   ]
  },
  {
   "cell_type": "code",
   "execution_count": 106,
   "metadata": {},
   "outputs": [],
   "source": [
    "# Use cutted data array to calculate the range_per_stddev.\n",
    "def calculate_range_per_stddev(cutted_data_array):\n",
    "\tmean = np.mean(cutted_data_array)\n",
    "\tsize = len(cutted_data_array)\n",
    "\tdiff_accum_mean_array = np.array([])\n",
    "\tdiff_accum_mean_curr = 0\n",
    "\ti = 0\n",
    "\twhile i < size:\n",
    "\t\tdiff_accum_mean_curr = diff_accum_mean_curr + (cutted_data_array[i] - mean)\n",
    "\t\tdiff_accum_mean_array = np.append(diff_accum_mean_array, diff_accum_mean_curr)\n",
    "\t\ti = i + 1\n",
    "\tstddev = np.std(cutted_data_array)\n",
    "\trange = diff_accum_mean_array.max() - diff_accum_mean_array.min()\n",
    "\trange_per_stddev = range / stddev\n",
    "\treturn range_per_stddev\n",
    "\n",
    "\t# Cut part of the intire input and send each cutted part to be processed \n",
    "\t# by calculate_range_per_stddev function.\n",
    "def run_thru_temporal_serie(input, size):\n",
    "\trange_per_stddev_array = np.array([])\n",
    "\tnbr_of_data_array = np.array([])\n",
    "\ti = 2\n",
    "\twhile i <= size:\n",
    "\t\tcutted_data_array = input[0:i]\n",
    "\t\trange_per_stddev = calculate_range_per_stddev(cutted_data_array)\n",
    "\t\trange_per_stddev_array = np.append(range_per_stddev_array, range_per_stddev)\n",
    "\t\tnbr_of_data_array = np.append(nbr_of_data_array, i)\n",
    "\t\ti = i + 1\n",
    "\treturn range_per_stddev_array, nbr_of_data_array"
   ]
  },
  {
   "cell_type": "code",
   "execution_count": 107,
   "metadata": {},
   "outputs": [],
   "source": [
    "# Use log2 in the  arrays to build a graphic (entropic line).\n",
    "def logarithmize_data(range_per_stddev_array, nbr_of_data_array):\n",
    "\trange_per_stddev_log_array = np.log2(range_per_stddev_array)\n",
    "\tnbr_of_data_log_array = np.log2(nbr_of_data_array)\n",
    "\treturn range_per_stddev_log_array, nbr_of_data_log_array"
   ]
  },
  {
   "cell_type": "code",
   "execution_count": 108,
   "metadata": {},
   "outputs": [],
   "source": [
    "# Calculate the line that best represent the matching points (linear regression).\n",
    "# If y = mx + b, the Hurst exponet is equal to m.\n",
    "# H = m.\n",
    "def linear_regression_to_get_hurst(range_per_stddev_log_array, nbr_of_data_log_array):\n",
    "\tx = nbr_of_data_log_array\n",
    "\ty =  range_per_stddev_log_array\n",
    "\tA = np.vstack([x, np.ones(len(x))]).T\n",
    "\tm, b = np.linalg.lstsq(A, y, rcond=None)[0]\n",
    "\tH = m\n",
    "\treturn H"
   ]
  },
  {
   "cell_type": "code",
   "execution_count": 109,
   "metadata": {},
   "outputs": [],
   "source": [
    "input_1 = np.array([12, 10, 8, 6, 4, 2, 4, 6, 8, 6, 4, 2, 1, 2, 4, 6, 8, 6, 8, 10, 8, 6, 2, 4, 6, 8, 10, 10, 12, 10, 8, 4])\n",
    "input_2 = np.array([12, 10, 8, 6])"
   ]
  },
  {
   "cell_type": "code",
   "execution_count": 110,
   "metadata": {},
   "outputs": [
    {
     "name": "stdout",
     "output_type": "stream",
     "text": [
      "0.8128894875875085\n"
     ]
    }
   ],
   "source": [
    "# main function\n",
    "# Define input array to be mesured.\n",
    "input = input_1\n",
    "size = len(input)\n",
    "\n",
    "range_per_stddev_array, nbr_of_data_array = run_thru_temporal_serie(input, size)\n",
    "range_per_stddev_log_array, nbr_of_data_log_array = logarithmize_data(range_per_stddev_array, nbr_of_data_array)\n",
    "H = linear_regression_to_get_hurst(range_per_stddev_log_array, nbr_of_data_log_array, )\n",
    "\n",
    "print(H)"
   ]
  }
 ],
 "metadata": {
  "kernelspec": {
   "display_name": "Python 3",
   "language": "python",
   "name": "python3"
  },
  "language_info": {
   "codemirror_mode": {
    "name": "ipython",
    "version": 3
   },
   "file_extension": ".py",
   "mimetype": "text/x-python",
   "name": "python",
   "nbconvert_exporter": "python",
   "pygments_lexer": "ipython3",
   "version": "3.8.10"
  }
 },
 "nbformat": 4,
 "nbformat_minor": 2
}
